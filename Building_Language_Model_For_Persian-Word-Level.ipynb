{
 "cells": [
  {
   "cell_type": "markdown",
   "metadata": {},
   "source": [
    "<div class=\"alert alert-success\">\n",
    "    <h1 align=\"center\">Lesson 6: Language Models Using RNNs</h1>\n",
    "    <h3 align=\"center\">Deep Learning in Python Workshop (HamYad Lab, 2018)</h3>\n",
    "    <h5 align=\"center\"><a href=\"http://www.snrazavi.ir\">Seyed Naser RAZAVI</a></h5>\n",
    "</div>"
   ]
  },
  {
   "cell_type": "markdown",
   "metadata": {
    "heading_collapsed": true
   },
   "source": [
    "## Introduction"
   ]
  },
  {
   "cell_type": "markdown",
   "metadata": {
    "hidden": true
   },
   "source": [
    "A **language model** assigns a probability to every sequence of words.\n",
    "\n",
    "$$P(w_1, w_2,\\dots, w_n)=P(w_1)P(w_2|w_1)P(w_3|w_1,w_2) \\times \\dots \\times P(w_n|w_1,w_2, \\dots, w_{n-1})$$"
   ]
  },
  {
   "cell_type": "markdown",
   "metadata": {
    "hidden": true
   },
   "source": [
    "### Applications"
   ]
  },
  {
   "cell_type": "markdown",
   "metadata": {
    "hidden": true
   },
   "source": [
    "- **Translation**: We can compare different orderings of words:\n",
    "<h6 align=\"center\">P(he likes apple) > P(apple likes he)</h6>\n",
    "<br>\n",
    "- **Speech Recognition**: We can choose words:\n",
    "<h6 align=\"center\">P(he likes apple) > P(apple licks he)</h6>"
   ]
  },
  {
   "cell_type": "markdown",
   "metadata": {
    "heading_collapsed": true
   },
   "source": [
    "## Libraries"
   ]
  },
  {
   "cell_type": "code",
   "execution_count": 1,
   "metadata": {
    "collapsed": true,
    "hidden": true
   },
   "outputs": [],
   "source": [
    "%matplotlib inline\n",
    "%reload_ext autoreload\n",
    "%autoreload 2\n",
    "\n",
    "import os\n",
    "import sys\n",
    "import random\n",
    "import pickle\n",
    "\n",
    "import numpy as np\n",
    "import matplotlib.pyplot as plt\n",
    "from collections import Counter\n",
    "from tqdm import tqdm_notebook\n",
    "\n",
    "import torch\n",
    "import torch.nn as nn\n",
    "import torch.optim as optim\n",
    "from torch.autograd import Variable\n",
    "\n",
    "from utils import *\n",
    "from data_utils import Vocabulary\n",
    "from train_utils import train\n",
    "\n",
    "from IPython.core.debugger import Pdb  ## DEBUG ##\n",
    "\n",
    "# setup\n",
    "plt.style.use('ggplot')\n",
    "plt.rcParams['figure.figsize'] = (12., 6.)\n",
    "pdb = Pdb()\n",
    "use_gpu = torch.cuda.is_available()"
   ]
  },
  {
   "cell_type": "markdown",
   "metadata": {
    "hidden": true
   },
   "source": [
    "Helper functions"
   ]
  },
  {
   "cell_type": "code",
   "execution_count": 2,
   "metadata": {
    "collapsed": true,
    "hidden": true
   },
   "outputs": [],
   "source": [
    "def plot_loss(trn_hist, val_hist):\n",
    "    plt.plot(trn_hist, label='Training Loss')\n",
    "    plt.plot(val_hist, label='Validation Loss')\n",
    "    plt.legend()\n",
    "    plt.xlabel('Epoch')\n",
    "    plt.ylabel('Loss')\n",
    "    plt.show()\n",
    "\n",
    "\n",
    "def tokenize_corpus(corpus_path):\n",
    "    num_lines = len(open(corpus_path, encoding='utf8').read().split('\\n'))\n",
    "    \n",
    "    # tokenize corpus\n",
    "    output = ''\n",
    "    with open(corpus_path, encoding='utf8') as f:\n",
    "        for line in tqdm_notebook(f, desc='Tokenizing', total=num_lines):\n",
    "            tokens = tokenizer(line.strip()) + ['\\n']\n",
    "            output += ' '.join(tokens)\n",
    "    \n",
    "    # save tokenized corpus\n",
    "    tok_corpus_path = corpus_path[:-4] + '_tok.txt'\n",
    "    with open(tok_corpus_path, 'w', encoding='utf8') as f:\n",
    "        f.write(output)"
   ]
  },
  {
   "cell_type": "markdown",
   "metadata": {
    "heading_collapsed": true
   },
   "source": [
    "## Data"
   ]
  },
  {
   "cell_type": "markdown",
   "metadata": {
    "hidden": true
   },
   "source": [
    "- A huge amount of texts containing bilions of words (such as all wikipedia articles).\n",
    "- But here, we use a rather small corpus containing Rumi's poems (Masnavi)."
   ]
  },
  {
   "cell_type": "markdown",
   "metadata": {
    "hidden": true
   },
   "source": [
    "<img src='imgs/Rumi.jpg' width='40%'/>"
   ]
  },
  {
   "cell_type": "markdown",
   "metadata": {
    "hidden": true
   },
   "source": [
    "<h4 align='center'><a href='https://en.wikipedia.org/wiki/Rumi'>Statue of Rumi in Buca</a></h4>"
   ]
  },
  {
   "cell_type": "code",
   "execution_count": 3,
   "metadata": {
    "collapsed": true,
    "hidden": true
   },
   "outputs": [],
   "source": [
    "data_dir = 'data/masnavi'\n",
    "output_dir = f'{data_dir}/models'\n",
    "\n",
    "train_data = f'{data_dir}/masnavi.txt'\n",
    "train_data_tok = train_data[:-4] + '_tok.txt'"
   ]
  },
  {
   "cell_type": "markdown",
   "metadata": {
    "hidden": true
   },
   "source": [
    "### Tokenizing"
   ]
  },
  {
   "cell_type": "code",
   "execution_count": 4,
   "metadata": {
    "hidden": true
   },
   "outputs": [
    {
     "data": {
      "application/vnd.jupyter.widget-view+json": {
       "model_id": "80366354071f4d94ab0e37fecbf55720",
       "version_major": 2,
       "version_minor": 0
      },
      "text/html": [
       "<p>Failed to display Jupyter Widget of type <code>HBox</code>.</p>\n",
       "<p>\n",
       "  If you're reading this message in Jupyter Notebook or JupyterLab, it may mean\n",
       "  that the widgets JavaScript is still loading. If this message persists, it\n",
       "  likely means that the widgets JavaScript library is either not installed or\n",
       "  not enabled. See the <a href=\"https://ipywidgets.readthedocs.io/en/stable/user_install.html\">Jupyter\n",
       "  Widgets Documentation</a> for setup instructions.\n",
       "</p>\n",
       "<p>\n",
       "  If you're reading this message in another notebook frontend (for example, a static\n",
       "  rendering on GitHub or <a href=\"https://nbviewer.jupyter.org/\">NBViewer</a>),\n",
       "  it may mean that your frontend doesn't currently support widgets.\n",
       "</p>\n"
      ],
      "text/plain": [
       "HBox(children=(IntProgress(value=0, description='Tokenizing', max=13625), HTML(value='')))"
      ]
     },
     "metadata": {},
     "output_type": "display_data"
    },
    {
     "name": "stdout",
     "output_type": "stream",
     "text": [
      "\n",
      "['بشنو این نی چون حکایت می\\u200cکند\\t\\t\\tاز جدایی\\u200cها شکایت می\\u200cکند', 'کز نیستان تا مرا ببریده\\u200cاند\\t\\t\\tاز نفیرم مرد و زن نالیده\\u200cاند', 'سینه خواهم شرحه شرحه از فراق\\t\\tتا بگویم شرح درد اشتیاق', 'هر کسی کو دور ماند از اصل خویش\\t\\tباز جوید روزگار وصل خویش', 'من به هر جمعیتی نالان شدم\\t\\t\\tجفت بدحالان و خوش\\u200cحالان شدم', 'هرکسی از ظن خود شد یار من\\t\\t\\tز درون من نجست اسرار من', 'سرّ من از نالهٔ من دور نیست\\t\\t\\tلیک چشم و گوش را آن نور نیست', 'تن ز جان و جان ز تن مستور نیست\\t\\tلیک کس را دید جان دستور نیست', 'آتش\\u200cاست این بانگ نای و نیست باد\\t\\tهر که این آتش ندارد، نیست باد', 'آتش عشق\\u200cاست کاندر نی فتاد\\t\\t\\tجوشش عشق\\u200c است کاندر می فتاد']\n",
      "\n",
      "\n",
      "After Tokenizing:\n",
      "\n",
      "\n",
      "['بشنو', 'این', 'نی', 'چون', 'حکایت', 'می', 'کند', '\\t\\t\\t', 'از', 'جدایی', 'ها', 'شکایت', 'می', 'کند', 'کز', 'نیستان', 'تا', 'مرا', 'ببریده', 'اند', '\\t\\t\\t', 'از', 'نفیرم', 'مرد', 'و', 'زن', 'نالیده', 'اند', 'سینه', 'خواهم', 'شرحه', 'شرحه', 'از', 'فراق', '\\t\\t', 'تا', 'بگویم', 'شرح', 'درد', 'اشتیاق', 'هر', 'کسی', 'کو', 'دور', 'ماند', 'از', 'اصل', 'خویش', '\\t\\t', 'باز', 'جوید', 'روزگار', 'وصل', 'خویش', 'من', 'به', 'هر', 'جمعیتی', 'نالان', 'شدم', '\\t\\t\\t', 'جفت', 'بدحالان', 'و', 'خوش', 'حالان', 'شدم', 'هرکسی', 'از', 'ظن', 'خود', 'شد', 'یار', 'من', '\\t\\t\\t', 'ز', 'درون', 'من', 'نجست', 'اسرار', 'من', 'سرّ', 'من', 'از', 'نالهٔ', 'من', 'دور', 'نیست', '\\t\\t\\t', 'لیک', 'چشم', 'و', 'گوش', 'را', 'آن', 'نور', 'نیست', 'تن', 'ز', 'جان', 'و', 'جان', 'ز', 'تن', 'مستور', 'نیست', '\\t\\t', 'لیک', 'کس', 'را', 'دید', 'جان', 'دستور', 'نیست', 'آتش', 'است', 'این', 'بانگ', 'نای', 'و', 'نیست', 'باد', '\\t\\t', 'هر', 'که', 'این', 'آتش', 'ندارد', '،', 'نیست', 'باد', 'آتش', 'عشق', 'است', 'کاندر', 'نی', 'فتاد', '\\t\\t\\t', 'جوشش', 'عشق', 'است', 'کاندر', 'می', 'فتاد']\n"
     ]
    }
   ],
   "source": [
    "tokenize_corpus(train_data)\n",
    "\n",
    "text = open(train_data, encoding='utf8').read().split('\\n')[:10]\n",
    "print(text)\n",
    "\n",
    "print('\\n\\nAfter Tokenizing:\\n\\n')\n",
    "print(tokenizer('\\n'.join(text)))"
   ]
  },
  {
   "cell_type": "markdown",
   "metadata": {
    "hidden": true
   },
   "source": [
    "### Statistics"
   ]
  },
  {
   "cell_type": "code",
   "execution_count": 5,
   "metadata": {
    "collapsed": true,
    "hidden": true
   },
   "outputs": [],
   "source": [
    "def cal_stats(corpus_path):\n",
    "    # collect the number of tokens used in each sentence of the corpus in a list\n",
    "    lengths = [len(s.split(' ')) for s in open(corpus_path, encoding='utf8').read().split('\\n')]\n",
    "    \n",
    "    # compute stats\n",
    "    total = sum(lengths)\n",
    "    mean = np.mean(lengths)\n",
    "    std = np.std(lengths)\n",
    "    \n",
    "    # print stats\n",
    "    print('Total words in the corpus = {}\\n'.format(total))\n",
    "    print('Mean = {:.2f}'.format(mean))\n",
    "    print('Std  = {:.2f}'.format(std))\n",
    "    print('95% confidence interval = [{:.2f}, {:.2f}]'.format(mean-2*std, mean+2*std))\n",
    "    \n",
    "    # plot histogram\n",
    "    plt.hist(lengths, bins=20)\n",
    "    plt.show()"
   ]
  },
  {
   "cell_type": "code",
   "execution_count": 6,
   "metadata": {
    "hidden": true
   },
   "outputs": [
    {
     "name": "stdout",
     "output_type": "stream",
     "text": [
      "Total words in the corpus = 171451\n",
      "\n",
      "Mean = 12.58\n",
      "Std  = 3.75\n",
      "95% confidence interval = [5.07, 20.09]\n"
     ]
    },
    {
     "data": {
      "image/png": "[encoded data removed]",
      "text/plain": [
       "<matplotlib.figure.Figure at 0x21bae981780>"
      ]
     },
     "metadata": {},
     "output_type": "display_data"
    }
   ],
   "source": [
    "cal_stats(train_data)"
   ]
  },
  {
   "cell_type": "markdown",
   "metadata": {
    "hidden": true
   },
   "source": [
    "### Corpus"
   ]
  },
  {
   "cell_type": "code",
   "execution_count": 7,
   "metadata": {
    "collapsed": true,
    "hidden": true
   },
   "outputs": [],
   "source": [
    "class Corpus(object):\n",
    "    \n",
    "    def __init__(self, corpus_path='data/train.txt'):\n",
    "        self.vocabulary = Vocabulary()\n",
    "        self.corpus_path = corpus_path\n",
    "        self.num_sentences = len([line for line in open(corpus_path, encoding='utf8')])\n",
    "    \n",
    "    def get_data(self, max_vocab=30000, min_count=3, batch_size=20, split_ratio=0.2):\n",
    "        \n",
    "        # First pass: add words to the vocabulary\n",
    "        trn_tokens, val_tokens = [], []\n",
    "        with open(self.corpus_path, encoding='utf8') as f:\n",
    "            for line in tqdm_notebook(f, desc='Building Vocab...', total=self.num_sentences):\n",
    "                tokens = line.split() + ['<EOS>']\n",
    "                if len(line) <= 10: continue\n",
    "                if random.random() < split_ratio:\n",
    "                    val_tokens += tokens\n",
    "                else:\n",
    "                    trn_tokens += tokens\n",
    "        \n",
    "        counter = Counter(trn_tokens + val_tokens)\n",
    "        \n",
    "        # sort tokens according to their frequencies in the Corpus\n",
    "        vocabs = [(w, c) for (w, c) in counter.most_common(max_vocab) if c >= min_count]\n",
    "        \n",
    "        for i, (word, count) in enumerate(vocabs):\n",
    "            self.vocabulary.word2index[word] = i\n",
    "            self.vocabulary.word2count[word] = count\n",
    "            self.vocabulary.index2word[i] = word\n",
    "            self.vocabulary.num_words += 1\n",
    "        self.vocabulary.add_word('<UNK>')\n",
    "        \n",
    "        \n",
    "        # Second pass: Tokenize file content\n",
    "        UNK_TOKEN = self.vocabulary.word2index['<UNK>']\n",
    "        \n",
    "        # train ids\n",
    "        trn_ids = torch.LongTensor(len(trn_tokens))\n",
    "        for idx, token in enumerate(trn_tokens):\n",
    "            if token in self.vocabulary.word2index:\n",
    "                trn_ids[idx] = self.vocabulary.word2index[token] \n",
    "            else:\n",
    "                trn_ids[idx] = UNK_TOKEN\n",
    "        \n",
    "        # validation ids\n",
    "        val_ids = torch.LongTensor(len(val_tokens))\n",
    "        for idx, token in enumerate(val_tokens):\n",
    "            if token in self.vocabulary.word2index:\n",
    "                val_ids[idx] = self.vocabulary.word2index[token] \n",
    "            else:\n",
    "                val_ids[idx] = UNK_TOKEN\n",
    "        \n",
    "        num_batches = trn_ids.size(0) // batch_size\n",
    "        trn_ids = trn_ids[: num_batches * batch_size]\n",
    "        \n",
    "        num_batches = val_ids.size(0) // batch_size\n",
    "        val_ids = trn_ids[: num_batches * batch_size]\n",
    "\n",
    "        return trn_ids.view(batch_size, -1), val_ids.view(batch_size, -1)"
   ]
  },
  {
   "cell_type": "markdown",
   "metadata": {
    "hidden": true
   },
   "source": [
    "### Hyper-parameters"
   ]
  },
  {
   "cell_type": "code",
   "execution_count": 8,
   "metadata": {
    "collapsed": true,
    "hidden": true
   },
   "outputs": [],
   "source": [
    "max_vocab = 30000\n",
    "min_count = 1\n",
    "\n",
    "# LSTM hyper-parameters\n",
    "embed_size = 1500\n",
    "hidden_size = 1500\n",
    "num_layers = 2\n",
    "\n",
    "# Training hyper-parameters\n",
    "num_epochs = 40\n",
    "batch_size = 50\n",
    "seq_length = 60\n",
    "learning_rate = 0.001"
   ]
  },
  {
   "cell_type": "markdown",
   "metadata": {
    "hidden": true
   },
   "source": [
    "### Load Data"
   ]
  },
  {
   "cell_type": "code",
   "execution_count": 9,
   "metadata": {
    "hidden": true
   },
   "outputs": [
    {
     "data": {
      "application/vnd.jupyter.widget-view+json": {
       "model_id": "9c80c3b571e24baab9bac48d5309caa3",
       "version_major": 2,
       "version_minor": 0
      },
      "text/html": [
       "<p>Failed to display Jupyter Widget of type <code>HBox</code>.</p>\n",
       "<p>\n",
       "  If you're reading this message in Jupyter Notebook or JupyterLab, it may mean\n",
       "  that the widgets JavaScript is still loading. If this message persists, it\n",
       "  likely means that the widgets JavaScript library is either not installed or\n",
       "  not enabled. See the <a href=\"https://ipywidgets.readthedocs.io/en/stable/user_install.html\">Jupyter\n",
       "  Widgets Documentation</a> for setup instructions.\n",
       "</p>\n",
       "<p>\n",
       "  If you're reading this message in another notebook frontend (for example, a static\n",
       "  rendering on GitHub or <a href=\"https://nbviewer.jupyter.org/\">NBViewer</a>),\n",
       "  it may mean that your frontend doesn't currently support widgets.\n",
       "</p>\n"
      ],
      "text/plain": [
       "HBox(children=(IntProgress(value=0, description='Building Vocab...', max=13625), HTML(value='')))"
      ]
     },
     "metadata": {},
     "output_type": "display_data"
    },
    {
     "name": "stdout",
     "output_type": "stream",
     "text": [
      "\n"
     ]
    }
   ],
   "source": [
    "corpus = Corpus(train_data_tok)\n",
    "trn_ids, val_ids = corpus.get_data(max_vocab, min_count, batch_size)\n",
    "vocab_size = len(corpus.vocabulary)\n",
    "\n",
    "# save vocabs and ids\n",
    "pickle.dump(corpus.vocabulary, open(f'{data_dir}/vocab.pkl', 'wb'))\n",
    "np.save(f'{data_dir}/trn_ids.npy', trn_ids.view(-1).numpy())\n",
    "np.save(f'{data_dir}/val_ids.npy', val_ids.view(-1).numpy())"
   ]
  },
  {
   "cell_type": "code",
   "execution_count": 10,
   "metadata": {
    "collapsed": true,
    "hidden": true
   },
   "outputs": [],
   "source": [
    "# corpus = Corpus(train_data)\n",
    "# corpus.vocabulary = pickle.load(open(f'{data_dir}/vocab.pkl', 'rb'))\n",
    "\n",
    "# trn_ids = torch.LongTensor(np.load(f'{data_dir}/trn_ids.npy'))\n",
    "# trn_ids = trn_ids[: trn_ids.size(0) // batch_size * batch_size]\n",
    "# trn_ids = trn_ids.view(batch_size, -1)\n",
    "\n",
    "# val_ids = torch.LongTensor(np.load(f'{data_dir}/val_ids.npy'))\n",
    "# val_ids = val_ids[: val_ids.size(0) // batch_size * batch_size]\n",
    "# val_ids = val_ids.view(batch_size, -1)"
   ]
  },
  {
   "cell_type": "code",
   "execution_count": 11,
   "metadata": {
    "hidden": true
   },
   "outputs": [
    {
     "name": "stdout",
     "output_type": "stream",
     "text": [
      "15844\n",
      "torch.Size([50, 2768])\n",
      "torch.Size([50, 674])\n"
     ]
    }
   ],
   "source": [
    "vocab_size = len(corpus.vocabulary)\n",
    "print(vocab_size)\n",
    "print(trn_ids.size())\n",
    "print(val_ids.size())"
   ]
  },
  {
   "cell_type": "code",
   "execution_count": 12,
   "metadata": {
    "hidden": true
   },
   "outputs": [
    {
     "name": "stdout",
     "output_type": "stream",
     "text": [
      "<EOS> 12593\n",
      "و 5867\n",
      "از 3716\n",
      "را 3578\n",
      "در 3084\n",
      "آن 2901\n",
      "که 2188\n",
      "می 2045\n",
      "او 2008\n",
      "بر 1947\n",
      "چون 1736\n",
      "این 1706\n",
      "تو 1704\n",
      "ای 1636\n",
      "تا 1397\n",
      "ز 1330\n",
      "من 1140\n",
      "گفت 1104\n",
      "بود 1089\n",
      "شد 998\n"
     ]
    }
   ],
   "source": [
    "most_commons = [(w, c) for (w, c) in corpus.vocabulary.word2count.items()][:20]\n",
    "\n",
    "for w, c in most_commons:\n",
    "    print(w, c)"
   ]
  },
  {
   "cell_type": "markdown",
   "metadata": {
    "heading_collapsed": true
   },
   "source": [
    "## LSTM For Language Modeling"
   ]
  },
  {
   "cell_type": "markdown",
   "metadata": {
    "hidden": true
   },
   "source": [
    "<img src='imgs/deep-rnns.png' width='90%'/>"
   ]
  },
  {
   "cell_type": "code",
   "execution_count": 13,
   "metadata": {
    "collapsed": true,
    "hidden": true
   },
   "outputs": [],
   "source": [
    "class LSTM_LM(nn.Module):\n",
    "    def __init__(self, vocab_size, embed_size, hidden_size, num_layers=1, drop=0.35, tie=True):\n",
    "        super(LSTM_LM, self).__init__()\n",
    "        \n",
    "        if tie:\n",
    "            embed_size = hidden_size\n",
    "        \n",
    "        self.embed_size = embed_size\n",
    "        self.hidden_size = hidden_size\n",
    "        self.num_layers = num_layers\n",
    "            \n",
    "        self.dropout = nn.Dropout(drop)\n",
    "        self.embedding = nn.Embedding(vocab_size, embed_size)\n",
    "        self.lstm = nn.LSTM(embed_size, hidden_size, num_layers, batch_first=True, dropout=0.35)\n",
    "        self.fc = nn.Linear(hidden_size, vocab_size)\n",
    "        \n",
    "        if tie:\n",
    "            # Use the same weights both for embedding and classification\n",
    "            self.fc.weight.data = self.embedding.weight.data\n",
    "            \n",
    "        self.init_weights()\n",
    "        \n",
    "    def init_weights(self):\n",
    "        self.embedding.weight.data.uniform_(-0.1, 0.1)\n",
    "        self.fc.weight.data.uniform_(-0.1, 0.1)\n",
    "        self.fc.bias.data.fill_(0)\n",
    "        \n",
    "    def init_hidden(self, batch_size):\n",
    "        return (to_var(torch.zeros(self.num_layers, batch_size, self.hidden_size)),\n",
    "                to_var(torch.zeros(self.num_layers, batch_size, self.hidden_size)))\n",
    "        \n",
    "    def forward(self, x, hidden):\n",
    "        # embed word ids to vectors\n",
    "        x = self.embedding(x)\n",
    "        x = self.dropout(x)  # DROPOUT\n",
    "        \n",
    "        # forward RNN step\n",
    "        x, hidden = self.lstm(x, hidden)\n",
    "        x = self.dropout(x)  # DROPOUT\n",
    "        \n",
    "        # reshape output to (bs * seq_length, hidden_size)\n",
    "        x = x.contiguous().view(x.size(0) * x.size(1), x.size(2))\n",
    "        \n",
    "        # decode hidden states of all time steps\n",
    "        x = self.fc(x)\n",
    "        \n",
    "        return x, hidden\n",
    "    \n",
    "    def save(self, epoch, loss, save_to=output_dir):\n",
    "        if not os.path.exists(output_dir):\n",
    "            os.mkdir(output_dir)\n",
    "        filename = output_dir + '/lm-masnavi-epoch-{}-em-{}-hi-{}-nl-{}-{:.2f}-{:.2f}.pth'.format(\n",
    "            epoch, self.embed_size, self.hidden_size, self.num_layers, loss, np.exp(loss))\n",
    "        torch.save(self.state_dict(), filename)"
   ]
  },
  {
   "cell_type": "markdown",
   "metadata": {
    "hidden": true
   },
   "source": [
    "#### Tie Weights (Embedding and classification)"
   ]
  },
  {
   "cell_type": "markdown",
   "metadata": {
    "hidden": true
   },
   "source": [
    "<h6>Idea:</h6> Reuse Embeddings for Classification, which greatly reduces the number of trainable parameters:\n",
    "- [Tying Word Vectors and Word Classifiers: A Loss Framework for Language Modeling (Inan et al. 2016)](https://arxiv.org/pdf/1611.01462.pdf)"
   ]
  },
  {
   "cell_type": "markdown",
   "metadata": {
    "hidden": true
   },
   "source": [
    "### Define model"
   ]
  },
  {
   "cell_type": "code",
   "execution_count": 14,
   "metadata": {
    "collapsed": true,
    "hidden": true
   },
   "outputs": [],
   "source": [
    "# model\n",
    "model = LSTM_LM(vocab_size, embed_size, hidden_size, num_layers, drop=0.65)\n",
    "if use_gpu:\n",
    "    model = model.cuda()\n",
    "\n",
    "# loss function\n",
    "criterion = nn.CrossEntropyLoss()\n",
    "if use_gpu:\n",
    "    criterion = criterion.cuda()\n",
    "    \n",
    "# optimizer\n",
    "optimizer = torch.optim.Adam(model.parameters(), lr=learning_rate)\n",
    "scheduler = optim.lr_scheduler.StepLR(optimizer, step_size=10, gamma=0.9)"
   ]
  },
  {
   "cell_type": "markdown",
   "metadata": {
    "hidden": true
   },
   "source": [
    "### Training"
   ]
  },
  {
   "cell_type": "code",
   "execution_count": 15,
   "metadata": {
    "hidden": true
   },
   "outputs": [
    {
     "name": "stdout",
     "output_type": "stream",
     "text": [
      "Validation: Epoch [40/40], Step [11/11], Loss: 0.780, Perp: 2.18, Acc: 0.88             "
     ]
    }
   ],
   "source": [
    "hist = train(model, trn_ids, val_ids, \n",
    "             criterion, optimizer, scheduler, \n",
    "             num_epochs, batch_size, seq_length)"
   ]
  },
  {
   "cell_type": "code",
   "execution_count": 16,
   "metadata": {
    "hidden": true
   },
   "outputs": [
    {
     "data": {
      "image/png": "[encoded data removed]",
      "text/plain": [
       "<matplotlib.figure.Figure at 0x21bc4cad278>"
      ]
     },
     "metadata": {},
     "output_type": "display_data"
    }
   ],
   "source": [
    "plot_loss(*hist)"
   ]
  },
  {
   "cell_type": "code",
   "execution_count": 18,
   "metadata": {
    "collapsed": true,
    "hidden": true
   },
   "outputs": [],
   "source": [
    "torch.save(model.state_dict(), 'masnavi-lm.pth')"
   ]
  },
  {
   "cell_type": "markdown",
   "metadata": {
    "hidden": true
   },
   "source": [
    "### Sampling"
   ]
  },
  {
   "cell_type": "markdown",
   "metadata": {
    "hidden": true
   },
   "source": [
    "<h6>Algorithm:</h6>\n",
    "1. **Initialize** the LSTM state (`h`, `c`) with zeros.\n",
    "\n",
    "2. Pick a **random word** from vocabulary as the seed.\n",
    "\n",
    "3. while number of generated samples is less than the desired:\n",
    " \n",
    " 3.1 **Feed** the LSTM using the word generated from previous time-step.\n",
    " \n",
    " 3.2 Perform **forward computations** to create the probabilty distribution vector for vocabularies.\n",
    " \n",
    " 3.3 Pick a **random word** from vocabulary according to the probabilty distribution from LSTM."
   ]
  },
  {
   "cell_type": "markdown",
   "metadata": {
    "hidden": true
   },
   "source": [
    "<img src='imgs/rnn-sampling.png' width='90%'/>"
   ]
  },
  {
   "cell_type": "markdown",
   "metadata": {
    "hidden": true
   },
   "source": [
    "#### Multinomial distribution"
   ]
  },
  {
   "cell_type": "code",
   "execution_count": 17,
   "metadata": {
    "hidden": true
   },
   "outputs": [
    {
     "name": "stdout",
     "output_type": "stream",
     "text": [
      "0: 506\n",
      "1: 258\n",
      "2: 144\n",
      "3: 92\n"
     ]
    }
   ],
   "source": [
    "N = 1000\n",
    "p = torch.FloatTensor([0.5, 0.25, 0.15, 0.10])\n",
    "# p = torch.FloatTensor([50, 25, 15, 10])\n",
    "\n",
    "counter = Counter()\n",
    "\n",
    "# Draw N samples\n",
    "for _ in range(N):\n",
    "    sample = torch.multinomial(p, num_samples=1, replacement=True)[0]\n",
    "    counter[sample] += 1\n",
    "    \n",
    "# print samples and their counts\n",
    "for sample, count in counter.most_common():\n",
    "    print(\"{:d}: {:2d}\".format(sample, count))"
   ]
  },
  {
   "cell_type": "code",
   "execution_count": 19,
   "metadata": {
    "collapsed": true,
    "hidden": true
   },
   "outputs": [],
   "source": [
    "def get_sample(model, sample_len):\n",
    "    model.eval()\n",
    "    sample = ''\n",
    "    state = model.init_hidden(1)\n",
    "\n",
    "    # select a random word id to start sampling\n",
    "    probs = torch.ones(vocab_size)\n",
    "    inp = to_var(torch.multinomial(probs, num_samples=1).unsqueeze(1), volatile=True)\n",
    "\n",
    "    for i in tqdm_notebook(range(sample_len)):\n",
    "        output, state = model(inp, state)\n",
    "\n",
    "        # Sample an id\n",
    "        probs = output.squeeze().data.exp().cpu()\n",
    "        word_id = torch.multinomial(probs, 1)[0]\n",
    "\n",
    "        # Feed sampled word id to next time step\n",
    "        inp.data.fill_(word_id)\n",
    "\n",
    "        # write to file\n",
    "        word = corpus.vocabulary.index2word[word_id]\n",
    "        if word == '<EOS>':\n",
    "            sample += '\\n'\n",
    "        else:\n",
    "            sample += ' ' + word\n",
    "    \n",
    "    return sample"
   ]
  },
  {
   "cell_type": "code",
   "execution_count": 21,
   "metadata": {
    "hidden": true
   },
   "outputs": [
    {
     "data": {
      "application/vnd.jupyter.widget-view+json": {
       "model_id": "553aa7e21eac4019b397ff0c3bf4bb19",
       "version_major": 2,
       "version_minor": 0
      },
      "text/html": [
       "<p>Failed to display Jupyter Widget of type <code>HBox</code>.</p>\n",
       "<p>\n",
       "  If you're reading this message in Jupyter Notebook or JupyterLab, it may mean\n",
       "  that the widgets JavaScript is still loading. If this message persists, it\n",
       "  likely means that the widgets JavaScript library is either not installed or\n",
       "  not enabled. See the <a href=\"https://ipywidgets.readthedocs.io/en/stable/user_install.html\">Jupyter\n",
       "  Widgets Documentation</a> for setup instructions.\n",
       "</p>\n",
       "<p>\n",
       "  If you're reading this message in another notebook frontend (for example, a static\n",
       "  rendering on GitHub or <a href=\"https://nbviewer.jupyter.org/\">NBViewer</a>),\n",
       "  it may mean that your frontend doesn't currently support widgets.\n",
       "</p>\n"
      ],
      "text/plain": [
       "HBox(children=(IntProgress(value=0, max=300), HTML(value='')))"
      ]
     },
     "metadata": {},
     "output_type": "display_data"
    },
    {
     "name": "stdout",
     "output_type": "stream",
     "text": [
      "\n",
      " و آن وزیر\n",
      " بوک از بهر عیسی گر گریخت وز کف فتح بدند\n",
      " هر که باشد در جهان فال کند در دگر هر گام مستی دهد\n",
      " هر یکی گوید که کوران ترا سر بمخزنها و گندم حالت کنم\n",
      " گفته باشد سر آهو نه وجود هر کسی کو شیشه باشد در الست\n",
      " صاحب کس را چو صیاد می دهند وآن دگر را کم بیابد یک نظر\n",
      " پس قیامت هم شهان زین جمله در دم زن قدرست چون پارسی\n",
      " گر مرا شمه ای زان خصال مر مرا که نباشد هم ز من نزدیکتر\n",
      " این ترا غمگین نشان این قوم را تا ببینی حق بلا را و نشان\n",
      " بر سر امرودبن پر نهاد بر گردون عقبه پایگی\n",
      " هم چنین زیشان نهان را همچو مست چون شود بر هیچ میر و بس\n",
      " سوخته را گنج شهان در خورست باید گری تا بر زند\n",
      " اصل بی برگی درین سو در رود چون در آمد میان جان شدند\n",
      " مرد بی خر شد به یک روز زحف آنچ رایی شد خیال و سود شد\n",
      " چون قضا جانش شوی یاری شود عقل دیگر هست از عقلی به\n",
      " گر برو نوری شود من کان بگیرد همچو گرگ آفتاب پرواز\n",
      " ای پدر می دان که من آنم ز روی شاه من پرورد در زمن\n",
      " مولعیم چون افسانه ها در سوخته گر بروید این بلای یا رب\n",
      " یا دریغا پیش من جان ترا می تاخت این بدان را در حسد\n",
      " اینک آن باشد که اندر وی درم عاقبت باشد لقب عاقبت\n",
      " روی بر نور هر که هست از ملک بود در بلا مردم چون دشوارش بود\n",
      " من ز گور سوز اصل ما همچو معنی کرد گرگ و خواب\n",
      " بس شیاطین بی تکلف و بی خودی و بی خودی و\n"
     ]
    }
   ],
   "source": [
    "sample = get_sample(model, 300)\n",
    "print(sample)"
   ]
  },
  {
   "cell_type": "code",
   "execution_count": null,
   "metadata": {
    "collapsed": true,
    "hidden": true
   },
   "outputs": [],
   "source": [
    "with open('sample.txt', 'w', encoding='utf8') as f:\n",
    "    f.write(sample)"
   ]
  },
  {
   "cell_type": "markdown",
   "metadata": {
    "heading_collapsed": true
   },
   "source": [
    "## Load a pre-trained Model"
   ]
  },
  {
   "cell_type": "code",
   "execution_count": 22,
   "metadata": {
    "collapsed": true,
    "hidden": true
   },
   "outputs": [],
   "source": [
    "model = LSTM_LM(vocab_size, embed_size=1500, hidden_size=1500, num_layers=2)\n",
    "model.load_state_dict(torch.load('masnavi-lm.pth'))\n",
    "if use_gpu:\n",
    "    model = model.cuda()"
   ]
  },
  {
   "cell_type": "code",
   "execution_count": 23,
   "metadata": {
    "hidden": true
   },
   "outputs": [
    {
     "data": {
      "application/vnd.jupyter.widget-view+json": {
       "model_id": "8b018f46e7d94a14b688b5370fd08251",
       "version_major": 2,
       "version_minor": 0
      },
      "text/html": [
       "<p>Failed to display Jupyter Widget of type <code>HBox</code>.</p>\n",
       "<p>\n",
       "  If you're reading this message in Jupyter Notebook or JupyterLab, it may mean\n",
       "  that the widgets JavaScript is still loading. If this message persists, it\n",
       "  likely means that the widgets JavaScript library is either not installed or\n",
       "  not enabled. See the <a href=\"https://ipywidgets.readthedocs.io/en/stable/user_install.html\">Jupyter\n",
       "  Widgets Documentation</a> for setup instructions.\n",
       "</p>\n",
       "<p>\n",
       "  If you're reading this message in another notebook frontend (for example, a static\n",
       "  rendering on GitHub or <a href=\"https://nbviewer.jupyter.org/\">NBViewer</a>),\n",
       "  it may mean that your frontend doesn't currently support widgets.\n",
       "</p>\n"
      ],
      "text/plain": [
       "HBox(children=(IntProgress(value=0, max=300), HTML(value='')))"
      ]
     },
     "metadata": {},
     "output_type": "display_data"
    },
    {
     "name": "stdout",
     "output_type": "stream",
     "text": [
      "\n",
      "\n",
      " گر تو خوردم و قضای مر تو زیشان تو سخاست\n",
      " انبیا را صدق دقیق گو آن بسحر را بنما\n",
      " باز باید همچو نازیبا را شرح چون دیده گیر هم خام\n",
      " باطلان کم اشتران جمله نظر از عوانی بر بکردند\n",
      " گر به تازی می زهی تا به آخر حقایق می برند\n",
      " گر حقیقت چون برقصست می کنند از بسیط می شوی\n",
      " می فتد اندر نظر زخم می می کنم تا طیور\n",
      " وقت تو سوی نرفتی می شدند زانک فردا بانگ می کنند\n",
      " گفت دنیا هست اما هین کین معشوق داد در انجمن\n",
      " که به دست می درند وز دگر بر بخارا می ناپدید\n",
      " گفت لقای سوگند آزاد ماهیان بر بر خوری بر خندیدنست\n",
      " دانه باید بر قدم لحن باشد کز بر عقلیم\n",
      " هست باشد زان اخوان کفشگر ساخت جان جمله شستند\n",
      " همچو بر خوردم و اشک جمله بر آمدش محکم\n",
      " جمله بر جد خشمم بر حشر بر بر بیند نهاد\n",
      " که قدم می کند پنهان او چون نماید چون کند او جعل\n",
      " تو به رقت باید وین آنچنان از اعتبار بگریختند\n",
      " نه همه پیش بخارا و حیات عشق و روز خراب و روسیاه\n",
      " گر تو تا باشم ار دو ور تنها علی ای مطاع\n",
      " شرح ده گفتن ناموسی همچو کلی و در خورشیدی\n",
      " هست دنیا به آتش بگشت کی عمارتها بر بر دریا نهاد\n",
      " گر مخلوق در کف بیرون بود کز اسیر خسته است\n",
      " ور و جور را روزی صد راه آخربین را اعلم\n",
      " گر قدم گوید گزید گر جواهر زین جان مرحوم\n",
      " آمده هم انگیختند ار جان هر که ریاضات شد وی\n",
      " خشم و خفتن ی خدا نو در تاریکی و کاشانه\n",
      " همچو باشد نام تقدیس در سرایان بر گرفت اندر اعلم\n",
      "\n"
     ]
    }
   ],
   "source": [
    "sample = get_sample(model, 300)\n",
    "print(sample)"
   ]
  },
  {
   "cell_type": "markdown",
   "metadata": {
    "hidden": true
   },
   "source": [
    "### Dropout in RNNs"
   ]
  },
  {
   "cell_type": "markdown",
   "metadata": {
    "hidden": true
   },
   "source": [
    "Droput is ineffective for recurrent layers (evantually all hidden units goes to zero)\n",
    "- Easy solution: use dropout only at the input and output of recurrent layers.\n",
    "- Also, it is possible and common to use dropout between recurrent layers at different depths."
   ]
  },
  {
   "cell_type": "markdown",
   "metadata": {
    "hidden": true
   },
   "source": [
    "<img src='imgs/rnn-dropout.png' width='70%'/>"
   ]
  },
  {
   "cell_type": "markdown",
   "metadata": {
    "hidden": true
   },
   "source": [
    "```python\n",
    "def forward(self, inp, hidden):\n",
    "    # embed word ids to vectors\n",
    "    x = self.embedding(inp)\n",
    "    x = self.dropout(x)  ### DROPOUT ###\n",
    "        \n",
    "    # forward RNN step\n",
    "    x, hidden = self.lstm(x, hidden)\n",
    "    x = self.dropout(x)  ### DROPOUT ###\n",
    "    ...\n",
    "```"
   ]
  },
  {
   "cell_type": "markdown",
   "metadata": {
    "heading_collapsed": true
   },
   "source": [
    "## Other Language Models"
   ]
  },
  {
   "cell_type": "markdown",
   "metadata": {
    "hidden": true
   },
   "source": [
    "- Character level language models"
   ]
  },
  {
   "cell_type": "markdown",
   "metadata": {
    "hidden": true
   },
   "source": [
    "<img src='imgs/lm-char-level.png' width='50%'/>"
   ]
  },
  {
   "cell_type": "markdown",
   "metadata": {
    "hidden": true
   },
   "source": [
    "- Sub-word level language models"
   ]
  },
  {
   "cell_type": "markdown",
   "metadata": {
    "collapsed": true,
    "hidden": true
   },
   "source": [
    "<img src='imgs/lm-subword-level.png' width='70%'/>"
   ]
  },
  {
   "cell_type": "markdown",
   "metadata": {
    "collapsed": true,
    "heading_collapsed": true
   },
   "source": [
    "## Furthere Reading"
   ]
  },
  {
   "cell_type": "markdown",
   "metadata": {
    "hidden": true
   },
   "source": [
    "- [The Unreasonable Effectiveness of Recurrent Neural Networks](http://karpathy.github.io/2015/05/21/rnn-effectiveness/)\n",
    "- [Oxford Deep NLP 2017 course](https://github.com/oxford-cs-deepnlp-2017/lectures)\n",
    "- [Natural Language Processing with Deep Learning - Stanford](https://youtu.be/OQQ-W_63UgQ)\n",
    "- [Deep Learning Book - Chapter 10](http://www.deeplearningbook.org/contents/rnn.html)"
   ]
  }
 ],
 "metadata": {
  "kernelspec": {
   "display_name": "Python 3",
   "language": "python",
   "name": "python3"
  },
  "language_info": {
   "codemirror_mode": {
    "name": "ipython",
    "version": 3
   },
   "file_extension": ".py",
   "mimetype": "text/x-python",
   "name": "python",
   "nbconvert_exporter": "python",
   "pygments_lexer": "ipython3",
   "version": "3.6.4"
  }
 },
 "nbformat": 4,
 "nbformat_minor": 2
}
