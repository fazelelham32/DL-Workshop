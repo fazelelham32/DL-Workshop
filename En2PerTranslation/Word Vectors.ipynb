{
 "cells": [
  {
   "cell_type": "code",
   "execution_count": 1,
   "metadata": {
    "collapsed": true
   },
   "outputs": [],
   "source": [
    "import pickle\n",
    "import numpy as np\n",
    "from collections import defaultdict\n",
    "from tqdm import tqdm_notebook"
   ]
  },
  {
   "cell_type": "code",
   "execution_count": 2,
   "metadata": {
    "collapsed": true
   },
   "outputs": [],
   "source": [
    "lang = 'en'\n",
    "fname = f'D:/datasets/nlp/fasttext/wiki.{lang}/wiki.{lang}.vec'\n",
    "pkl_fname = f'data/wiki.{lang}.pkl'"
   ]
  },
  {
   "cell_type": "markdown",
   "metadata": {},
   "source": [
    "## Word Vectors"
   ]
  },
  {
   "cell_type": "markdown",
   "metadata": {},
   "source": [
    "https://github.com/facebookresearch/fastText"
   ]
  },
  {
   "cell_type": "code",
   "execution_count": null,
   "metadata": {
    "collapsed": true
   },
   "outputs": [],
   "source": [
    "\n",
    "# N = len(open(fname, encoding='utf8').read().split('\\n'))\n",
    "\n",
    "# print(N)\n",
    "\n",
    "word_vecs = defaultdict()\n",
    "with open(fname, encoding='utf8') as f:\n",
    "    for i, line in enumerate(tqdm_notebook(f, desc='reading')):\n",
    "        if i == 0: continue\n",
    "        tokens = line.strip().split(' ')\n",
    "        if len(tokens) != 301: continue\n",
    "        word = tokens[0]\n",
    "        wv = np.array([float(x) for x in tokens[1:]])\n",
    "        word_vecs[word] = wv\n",
    "        \n",
    "pickle.dump(word_vecs, open(pkl_fname, 'wb'))"
   ]
  },
  {
   "cell_type": "code",
   "execution_count": null,
   "metadata": {
    "collapsed": true
   },
   "outputs": [],
   "source": [
    "wvecs = pickle.load(open(pkl_fname, 'rb'))"
   ]
  },
  {
   "cell_type": "code",
   "execution_count": null,
   "metadata": {
    "collapsed": true
   },
   "outputs": [],
   "source": [
    "for i, w in enumerate(wvecs):\n",
    "    print(w)\n",
    "    if i > 20: break"
   ]
  },
  {
   "cell_type": "markdown",
   "metadata": {},
   "source": [
    "## WordVector class"
   ]
  },
  {
   "cell_type": "code",
   "execution_count": 3,
   "metadata": {
    "collapsed": true
   },
   "outputs": [],
   "source": [
    "class WordVector(object):\n",
    "    def __init__(self, lang, filename):\n",
    "        \" Create an instance of word vecor class.\"\n",
    "        self.lang = lang\n",
    "        self.word_vectors = pickle.load(open(filename, 'rb'))\n",
    "        self.vector_size = len(self.word_vectors['</s>'])\n",
    "        self.mean_vector = None\n",
    "        self.stddev = None\n",
    "        \n",
    "    def __len__(self):\n",
    "        return len(self.word_vectors)\n",
    "    \n",
    "    def __getitem__(self, word):\n",
    "        return self.get_word_vector(word)\n",
    "        \n",
    "    def get_words(self):\n",
    "        return [w for w in self.word_vectors]\n",
    "    \n",
    "    def mean(self):\n",
    "        if self.mean_vector is None:\n",
    "            vectors = np.stack([v for _, v in self.word_vectors.items()], axis=0)\n",
    "            self.mean_vector = np.mean(vectors, axis=0)\n",
    "        return self.mean_vector\n",
    "    \n",
    "    def std(self):\n",
    "        if self.stddev is None:\n",
    "            vectors = np.stack([v for _, v in self.word_vectors.items()], axis=0)\n",
    "            self.stddev = np.std(vectors)\n",
    "        return self.stddev\n",
    "    \n",
    "    def get_word_vector(self, word):\n",
    "        return self.word_vectors.get(word, self.mean() + np.random.normal(scale=self.std(), size=(self.vector_size,)))\n",
    "        \n",
    "    def get_word_vectors(self, words):\n",
    "        return [self.get_word_vector(w) for w in words]\n",
    "        \n",
    "    def most_similar(self, word, n=10):\n",
    "        v = self.get_word_vector(word)\n",
    "        V = np.stack([v for _, v in self.word_vectors.items()], axis=0)\n",
    "        dist = V - v\n",
    "        idxes = np.argsort(np.sum(dist * dist, axis=1))[:n]\n",
    "        \n",
    "        result = []\n",
    "        for i, w in enumerate(self.word_vectors.keys()):\n",
    "            if i in idxes:\n",
    "                result += [w]\n",
    "        return result"
   ]
  },
  {
   "cell_type": "code",
   "execution_count": 4,
   "metadata": {},
   "outputs": [
    {
     "name": "stdout",
     "output_type": "stream",
     "text": [
      "Wall time: 15.7 s\n"
     ]
    }
   ],
   "source": [
    "%%time\n",
    "word_vectors = WordVector(lang, pkl_fname)"
   ]
  },
  {
   "cell_type": "code",
   "execution_count": 5,
   "metadata": {},
   "outputs": [
    {
     "data": {
      "text/plain": [
       "2519072"
      ]
     },
     "execution_count": 5,
     "metadata": {},
     "output_type": "execute_result"
    }
   ],
   "source": [
    "len(word_vectors)"
   ]
  },
  {
   "cell_type": "code",
   "execution_count": 6,
   "metadata": {},
   "outputs": [
    {
     "data": {
      "text/plain": [
       "2519072"
      ]
     },
     "execution_count": 6,
     "metadata": {},
     "output_type": "execute_result"
    }
   ],
   "source": [
    "len(word_vectors.get_words())"
   ]
  },
  {
   "cell_type": "code",
   "execution_count": 7,
   "metadata": {},
   "outputs": [
    {
     "data": {
      "text/plain": [
       "300"
      ]
     },
     "execution_count": 7,
     "metadata": {},
     "output_type": "execute_result"
    }
   ],
   "source": [
    "word_vectors.vector_size"
   ]
  },
  {
   "cell_type": "code",
   "execution_count": 14,
   "metadata": {},
   "outputs": [
    {
     "data": {
      "text/plain": [
       "array([ 0.041985 , -1.1396   ,  0.034302 ,  0.64125  ,  0.089276 ,\n",
       "       -0.77393  , -0.013124 , -0.20347  , -0.54934  ,  0.1399   ,\n",
       "       -0.070892 ,  0.21652  , -0.42647  , -0.072916 , -0.084692 ,\n",
       "       -0.14336  ,  0.09212  ,  0.088827 , -0.45631  , -0.34052  ,\n",
       "       -0.071695 ,  0.45763  , -0.17093  ,  0.0082519,  0.10863  ,\n",
       "       -0.42013  ,  0.089975 ,  0.29635  , -0.29825  ,  0.41596  ,\n",
       "       -0.15034  , -0.80878  , -0.15346  , -0.35681  ,  0.14044  ,\n",
       "        0.029812 , -0.023503 , -0.085503 , -0.16474  ,  0.14628  ,\n",
       "        0.0027051,  0.50969  ,  0.30577  , -0.29629  ,  0.51845  ,\n",
       "        0.056919 , -0.2038   ,  0.12229  ,  0.079332 , -0.17808  ,\n",
       "       -0.34848  , -0.30105  , -0.29494  ,  0.12041  ,  0.15768  ,\n",
       "       -0.45548  ,  0.26775  , -0.39971  , -0.22564  ,  0.19732  ,\n",
       "        0.25455  ,  0.4003   ,  0.16563  , -0.25421  , -0.24958  ,\n",
       "       -0.351    , -0.023575 ,  0.094394 , -0.54649  ,  0.017168 ,\n",
       "        0.29266  ,  0.10806  ,  0.17613  , -0.80156  , -0.41884  ,\n",
       "        0.0024058,  0.079114 , -0.14244  ,  0.03421  ,  0.17771  ,\n",
       "        0.16111  ,  0.31917  , -0.11338  , -0.051395 ,  0.50959  ,\n",
       "        0.55424  , -0.034451 , -0.43373  ,  0.19876  ,  0.11405  ,\n",
       "       -0.14137  , -0.55072  , -0.029224 , -0.21143  , -0.23078  ,\n",
       "        0.019702 , -0.37945  ,  0.14558  , -0.25113  , -0.16383  ,\n",
       "        0.11507  ,  0.2838   ,  0.20308  , -0.24607  ,  0.30446  ,\n",
       "       -0.072966 , -0.56708  ,  0.039468 ,  0.046321 ,  0.30264  ,\n",
       "       -0.0050963,  0.02317  ,  0.079965 , -0.21835  ,  0.17946  ,\n",
       "        0.15545  ,  0.046679 , -0.050388 ,  0.042071 ,  0.063419 ,\n",
       "        0.35646  ,  0.15864  ,  0.068295 , -0.49348  , -0.21972  ,\n",
       "       -0.3612   ,  0.14341  ,  0.53693  , -0.31474  , -0.034463 ,\n",
       "        0.013279 ,  0.65996  ,  0.44749  , -0.090228 ,  0.17226  ,\n",
       "        0.058268 , -0.086002 ,  0.19407  , -0.42988  ,  0.23779  ,\n",
       "       -0.20671  ,  0.12241  ,  0.8288   , -0.22882  ,  0.21543  ,\n",
       "        0.13571  ,  0.1461   , -0.19726  ,  0.60282  ,  0.10136  ,\n",
       "        0.34364  , -0.20006  , -0.38899  ,  0.2274   , -0.049538 ,\n",
       "        0.20378  ,  0.19098  ,  0.53333  , -0.065799 ,  0.28158  ,\n",
       "        0.26598  ,  0.31671  ,  0.31724  , -0.20599  ,  0.21799  ,\n",
       "       -0.44889  ,  0.37048  , -0.26825  ,  0.4191   ,  0.20798  ,\n",
       "       -0.05652  , -0.28173  , -0.42595  , -0.024748 ,  0.066295 ,\n",
       "       -0.14828  ,  0.095864 ,  0.26324  ,  0.091261 , -0.33513  ,\n",
       "       -0.28265  , -0.16256  , -0.39535  , -0.58731  , -0.051734 ,\n",
       "        1.1794   , -0.18218  , -0.28437  ,  0.5406   ,  0.050942 ,\n",
       "       -0.41025  ,  0.37685  ,  0.0015467,  0.4758   , -0.32765  ,\n",
       "       -0.1401   , -0.34869  ,  0.22764  , -0.66104  ,  0.046841 ,\n",
       "        0.79666  , -0.37792  , -0.12949  ,  0.1731   , -0.30013  ,\n",
       "        0.10704  , -0.27261  ,  0.084799 ,  0.33023  ,  0.61652  ,\n",
       "        0.58627  ,  0.17773  , -0.13398  ,  0.014927 ,  0.047208 ,\n",
       "        0.053826 ,  0.38635  , -0.43834  , -0.39139  ,  0.35062  ,\n",
       "        0.30639  ,  0.060697 , -0.18078  ,  0.11374  ,  0.62848  ,\n",
       "       -0.05263  ,  0.28845  , -0.34821  ,  0.015515 ,  0.085982 ,\n",
       "        0.61407  , -0.040136 , -0.3164   , -0.12113  , -0.16672  ,\n",
       "       -0.043975 , -0.084938 , -0.095373 , -0.10084  ,  0.080417 ,\n",
       "        0.21529  ,  0.10435  ,  0.14733  , -0.13933  , -0.14445  ,\n",
       "        0.18184  ,  0.21617  ,  0.19914  ,  0.13962  , -0.11863  ,\n",
       "        0.41861  , -0.12235  ,  0.16203  , -0.45347  ,  0.13166  ,\n",
       "        0.38719  , -0.23258  , -0.10192  ,  0.20858  ,  0.01356  ,\n",
       "       -0.1935   ,  0.19721  ,  0.24409  , -0.18834  , -0.31005  ,\n",
       "       -0.7461   ,  0.066393 , -0.15636  ,  0.17549  , -0.23805  ,\n",
       "        0.10389  ,  0.10399  , -0.42375  , -0.03296  , -1.1974   ,\n",
       "       -0.52586  ,  0.62365  ,  0.51432  , -0.047163 ,  0.16388  ,\n",
       "        0.37991  ,  0.13725  , -0.26904  , -0.15633  , -0.075263 ,\n",
       "        0.17844  ,  0.04268  ,  0.55658  ,  0.0022293,  0.34977  ,\n",
       "       -0.26909  ,  0.33048  ,  0.252    , -0.15335  ,  0.054227 ,\n",
       "       -0.38799  , -0.45468  ,  0.15076  ,  0.42346  ,  0.37468  ])"
      ]
     },
     "execution_count": 14,
     "metadata": {},
     "output_type": "execute_result"
    }
   ],
   "source": [
    "word_vectors.get_word_vector('naser')"
   ]
  },
  {
   "cell_type": "code",
   "execution_count": 9,
   "metadata": {},
   "outputs": [
    {
     "data": {
      "text/plain": [
       "array([-0.10205359, -0.02326221, -0.16352156,  0.15728838, -0.13871301,\n",
       "       -0.11039955,  0.19033169, -0.09665664, -0.10636277,  0.06610439,\n",
       "        0.02778889,  0.05542875, -0.19266407, -0.16751885,  0.01827158,\n",
       "       -0.20545288, -0.04739126,  0.09778675, -0.00279672,  0.36863911,\n",
       "       -0.10439755,  0.19294405, -0.15567456, -0.0679449 , -0.25715248,\n",
       "       -0.13536481, -0.00901685, -0.1016655 ,  0.06599224,  0.18713068,\n",
       "       -0.15736825,  0.22180213, -0.15763848,  0.08059061,  0.03168765,\n",
       "        0.01327852,  0.00629826, -0.00879637,  0.00241807, -0.10346001,\n",
       "       -0.01693895,  0.02723596,  0.03406903, -0.00360328,  0.11942819,\n",
       "        0.03686219,  0.00401023, -0.10689108,  0.05666206,  0.03063519,\n",
       "        0.04111546, -0.2810808 , -0.07629056,  0.01554295, -0.02203771,\n",
       "       -0.04047799,  0.24183744,  0.03369634,  0.00629663,  0.22661112,\n",
       "        0.01703174,  0.06665025,  0.17627028, -0.0695035 , -0.03441882,\n",
       "       -0.11930528,  0.0149045 ,  0.18129509, -0.04238762, -0.0223676 ,\n",
       "        0.10354467, -0.01282276,  0.33248973,  0.0925675 , -0.15894714,\n",
       "        0.19990288,  0.18836926,  0.16679819, -0.15231926, -0.0743396 ,\n",
       "       -0.03238004,  0.15967378,  0.04726912,  0.01095819, -0.07211785,\n",
       "       -0.11137717,  0.03734631,  0.02915688,  0.090991  ,  0.00710894,\n",
       "        0.04467651, -0.19866252,  0.02948655, -0.06583211,  0.0406238 ,\n",
       "       -0.00740432, -0.03414426,  0.08947546, -0.0124364 , -0.11842428,\n",
       "        0.06354071, -0.03055003,  0.06410784, -0.04844519,  0.18663101,\n",
       "        0.13231235, -0.17590534,  0.04337538,  0.09895259, -0.03908234,\n",
       "       -0.16644876, -0.03467485, -0.01191364, -0.06865903, -0.12095429,\n",
       "       -0.08833795,  0.09660843,  0.07959401,  0.0109768 ,  0.09531274,\n",
       "        0.23487054,  0.03583527, -0.11811449,  0.26116798, -0.0195059 ,\n",
       "       -0.02831649, -0.06601249,  0.11327438, -0.01083685,  0.14422076,\n",
       "       -0.01307458,  0.08767705,  0.01637079,  0.13787368,  0.10975299,\n",
       "        0.01068638, -0.11131849, -0.16065735,  0.02067021,  0.20307325,\n",
       "       -0.03249088,  0.11947981,  0.15107844,  0.12061436,  0.02762231,\n",
       "        0.22141765,  0.03103334, -0.03603797,  0.02976696,  0.03222188,\n",
       "        0.28292611, -0.21144968, -0.11922234, -0.01763664, -0.17545736,\n",
       "        0.04607386,  0.02328296, -0.03335578,  0.09650005,  0.0312334 ,\n",
       "        0.16296799,  0.10184361, -0.02361452, -0.03481739,  0.19843514,\n",
       "        0.0682953 , -0.10977219, -0.12045712,  0.20650871,  0.23986778,\n",
       "       -0.20831966, -0.1504186 , -0.34097994, -0.03495951, -0.03316222,\n",
       "        0.22321827, -0.13835573, -0.04957194, -0.02101118, -0.26725753,\n",
       "       -0.09271327, -0.14683116,  0.01397007, -0.05616852, -0.04095968,\n",
       "        0.20265526, -0.03291387, -0.18445976,  0.24987302,  0.09586046,\n",
       "        0.0593542 , -0.25425776,  0.1826464 ,  0.23310575, -0.23585391,\n",
       "        0.00081768,  0.01125876,  0.13123865, -0.21612036, -0.10609785,\n",
       "        0.20116401, -0.0301079 ,  0.11434551,  0.03668297,  0.02763263,\n",
       "       -0.24953532, -0.07738002,  0.00892565,  0.29521198,  0.03289027,\n",
       "        0.47601777, -0.01177928,  0.12363845, -0.11336467,  0.00688083,\n",
       "       -0.03720811,  0.06958458, -0.27771701, -0.16148756,  0.05211381,\n",
       "        0.07863702,  0.01811838, -0.0727502 ,  0.15222006,  0.06806183,\n",
       "        0.07817455,  0.0553947 , -0.20869719,  0.15178089, -0.02127496,\n",
       "        0.194311  , -0.08088553, -0.21312863, -0.04782505,  0.08962408,\n",
       "        0.0525675 ,  0.05836593, -0.08281396, -0.06481616, -0.10106335,\n",
       "       -0.01867223,  0.04275122, -0.02343219, -0.02133295, -0.1149614 ,\n",
       "        0.01754539,  0.0506037 ,  0.09294126, -0.11443484, -0.12473583,\n",
       "        0.18716511, -0.10797997, -0.10787364, -0.0593212 ,  0.11549744,\n",
       "        0.08721505, -0.00141959, -0.23153463,  0.11833931, -0.02110084,\n",
       "       -0.03178487,  0.22957703,  0.06524847,  0.01559441, -0.24917994,\n",
       "       -0.08367412,  0.08863489, -0.01879713, -0.06242141, -0.04885896,\n",
       "       -0.1549279 ,  0.02926227,  0.21075321, -0.14576465, -0.13540378,\n",
       "       -0.1873747 ,  0.11780464,  0.13011282, -0.049346  ,  0.04442201,\n",
       "        0.03919384,  0.10593122, -0.03206772,  0.04629544,  0.03045377,\n",
       "        0.09052999,  0.11195081,  0.21260212, -0.01583502,  0.10143505,\n",
       "       -0.05057371, -0.1111002 ,  0.07771941,  0.02897168,  0.07373389,\n",
       "       -0.04477487, -0.17015026,  0.21097003,  0.13550723,  0.02207539])"
      ]
     },
     "execution_count": 9,
     "metadata": {},
     "output_type": "execute_result"
    }
   ],
   "source": [
    "word_vectors.mean()"
   ]
  },
  {
   "cell_type": "code",
   "execution_count": 10,
   "metadata": {},
   "outputs": [
    {
     "data": {
      "text/plain": [
       "0.2928340977562775"
      ]
     },
     "execution_count": 10,
     "metadata": {},
     "output_type": "execute_result"
    }
   ],
   "source": [
    "word_vectors.std()"
   ]
  },
  {
   "cell_type": "code",
   "execution_count": 15,
   "metadata": {},
   "outputs": [
    {
     "data": {
      "text/plain": [
       "['son',\n",
       " 'father',\n",
       " 'brother',\n",
       " 'brothers',\n",
       " 'younger',\n",
       " 'uncle',\n",
       " 'cousin',\n",
       " 'grandfather',\n",
       " 'elder',\n",
       " 'grandson',\n",
       " 'nephew',\n",
       " 'siblings',\n",
       " 'niece',\n",
       " 'stepfather',\n",
       " 'nephews',\n",
       " 'uncles',\n",
       " 'stepson',\n",
       " 'stepbrother',\n",
       " 'stepbrothers',\n",
       " 'brotherson',\n",
       " 'halfbrother',\n",
       " 'stepgrandfather',\n",
       " 'brother…',\n",
       " '—father',\n",
       " 'brother—who',\n",
       " 'nephew,',\n",
       " 'brothers—one',\n",
       " 'brother—and',\n",
       " 'brothering',\n",
       " '—brother']"
      ]
     },
     "execution_count": 15,
     "metadata": {},
     "output_type": "execute_result"
    }
   ],
   "source": [
    "word_vectors.most_similar('brother', n=30)"
   ]
  },
  {
   "cell_type": "code",
   "execution_count": 17,
   "metadata": {},
   "outputs": [
    {
     "data": {
      "text/plain": [
       "['book',\n",
       " 'published',\n",
       " 'books',\n",
       " 'author',\n",
       " 'foreword',\n",
       " 'republication',\n",
       " 'book—',\n",
       " 'books—the',\n",
       " 'book—the',\n",
       " 'book—and',\n",
       " 'book—which',\n",
       " 'books—and',\n",
       " 'foreworded',\n",
       " 'book—in',\n",
       " 'booklore',\n",
       " 'books,and',\n",
       " 'books—all',\n",
       " 'book—but',\n",
       " 'book—one',\n",
       " 'booklegger',\n",
       " 'book—with',\n",
       " 'book\\xa0of\\xa0abraham',\n",
       " 'books—which',\n",
       " 'book—it',\n",
       " 'book>',\n",
       " 'book—to',\n",
       " 'published—and',\n",
       " 'book—is',\n",
       " 'author,and',\n",
       " 'book,and']"
      ]
     },
     "execution_count": 17,
     "metadata": {},
     "output_type": "execute_result"
    }
   ],
   "source": [
    "word_vectors.most_similar('book', n=30)"
   ]
  },
  {
   "cell_type": "code",
   "execution_count": null,
   "metadata": {
    "collapsed": true
   },
   "outputs": [],
   "source": []
  }
 ],
 "metadata": {
  "kernelspec": {
   "display_name": "Python 3",
   "language": "python",
   "name": "python3"
  },
  "language_info": {
   "codemirror_mode": {
    "name": "ipython",
    "version": 3
   },
   "file_extension": ".py",
   "mimetype": "text/x-python",
   "name": "python",
   "nbconvert_exporter": "python",
   "pygments_lexer": "ipython3",
   "version": "3.6.5"
  }
 },
 "nbformat": 4,
 "nbformat_minor": 2
}
